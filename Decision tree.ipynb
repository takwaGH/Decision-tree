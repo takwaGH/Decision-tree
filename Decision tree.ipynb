{
 "cells": [
  {
   "cell_type": "markdown",
   "id": "21b0ecaf",
   "metadata": {},
   "source": [
    "**Importing libraries**"
   ]
  },
  {
   "cell_type": "code",
   "execution_count": 1,
   "id": "ee4da21a",
   "metadata": {},
   "outputs": [],
   "source": [
    "import pandas as pd\n",
    "import numpy as np\n",
    "import seaborn as sns\n",
    "import matplotlib.pyplot as plt\n",
    "from sklearn.model_selection import train_test_split\n",
    "from sklearn import tree   \n",
    "from sklearn.tree import DecisionTreeClassifier\n",
    "from sklearn.metrics import accuracy_score\n",
    "from sklearn.model_selection import KFold\n",
    "from sklearn.model_selection import cross_val_score\n",
    "from IPython.display import Image as PImage\n",
    "from subprocess import check_call\n",
    "from PIL import Image, ImageDraw, ImageFont\n",
    "from sklearn.ensemble import RandomForestClassifier\n",
    "from sklearn.model_selection import GridSearchCV\n"
   ]
  },
  {
   "cell_type": "code",
   "execution_count": 2,
   "id": "2a940cfb",
   "metadata": {},
   "outputs": [
    {
     "data": {
      "text/html": [
       "<div>\n",
       "<style scoped>\n",
       "    .dataframe tbody tr th:only-of-type {\n",
       "        vertical-align: middle;\n",
       "    }\n",
       "\n",
       "    .dataframe tbody tr th {\n",
       "        vertical-align: top;\n",
       "    }\n",
       "\n",
       "    .dataframe thead th {\n",
       "        text-align: right;\n",
       "    }\n",
       "</style>\n",
       "<table border=\"1\" class=\"dataframe\">\n",
       "  <thead>\n",
       "    <tr style=\"text-align: right;\">\n",
       "      <th></th>\n",
       "      <th>PassengerId</th>\n",
       "      <th>Survived</th>\n",
       "      <th>Pclass</th>\n",
       "      <th>Name</th>\n",
       "      <th>Sex</th>\n",
       "      <th>Age</th>\n",
       "      <th>SibSp</th>\n",
       "      <th>Parch</th>\n",
       "      <th>Ticket</th>\n",
       "      <th>Fare</th>\n",
       "      <th>Cabin</th>\n",
       "      <th>Embarked</th>\n",
       "    </tr>\n",
       "  </thead>\n",
       "  <tbody>\n",
       "    <tr>\n",
       "      <th>0</th>\n",
       "      <td>343</td>\n",
       "      <td>No</td>\n",
       "      <td>2</td>\n",
       "      <td>Collander, Mr. Erik Gustaf</td>\n",
       "      <td>male</td>\n",
       "      <td>28.0</td>\n",
       "      <td>0</td>\n",
       "      <td>0</td>\n",
       "      <td>248740</td>\n",
       "      <td>13.0000</td>\n",
       "      <td>NaN</td>\n",
       "      <td>S</td>\n",
       "    </tr>\n",
       "    <tr>\n",
       "      <th>1</th>\n",
       "      <td>76</td>\n",
       "      <td>No</td>\n",
       "      <td>3</td>\n",
       "      <td>Moen, Mr. Sigurd Hansen</td>\n",
       "      <td>male</td>\n",
       "      <td>25.0</td>\n",
       "      <td>0</td>\n",
       "      <td>0</td>\n",
       "      <td>348123</td>\n",
       "      <td>7.6500</td>\n",
       "      <td>F G73</td>\n",
       "      <td>S</td>\n",
       "    </tr>\n",
       "    <tr>\n",
       "      <th>2</th>\n",
       "      <td>641</td>\n",
       "      <td>No</td>\n",
       "      <td>3</td>\n",
       "      <td>Jensen, Mr. Hans Peder</td>\n",
       "      <td>male</td>\n",
       "      <td>20.0</td>\n",
       "      <td>0</td>\n",
       "      <td>0</td>\n",
       "      <td>350050</td>\n",
       "      <td>7.8542</td>\n",
       "      <td>NaN</td>\n",
       "      <td>S</td>\n",
       "    </tr>\n",
       "    <tr>\n",
       "      <th>3</th>\n",
       "      <td>568</td>\n",
       "      <td>No</td>\n",
       "      <td>3</td>\n",
       "      <td>Palsson, Mrs. Nils (Alma Cornelia Berglund)</td>\n",
       "      <td>female</td>\n",
       "      <td>29.0</td>\n",
       "      <td>0</td>\n",
       "      <td>4</td>\n",
       "      <td>349909</td>\n",
       "      <td>21.0750</td>\n",
       "      <td>NaN</td>\n",
       "      <td>S</td>\n",
       "    </tr>\n",
       "    <tr>\n",
       "      <th>4</th>\n",
       "      <td>672</td>\n",
       "      <td>No</td>\n",
       "      <td>1</td>\n",
       "      <td>Davidson, Mr. Thornton</td>\n",
       "      <td>male</td>\n",
       "      <td>31.0</td>\n",
       "      <td>1</td>\n",
       "      <td>0</td>\n",
       "      <td>F.C. 12750</td>\n",
       "      <td>52.0000</td>\n",
       "      <td>B71</td>\n",
       "      <td>S</td>\n",
       "    </tr>\n",
       "    <tr>\n",
       "      <th>5</th>\n",
       "      <td>105</td>\n",
       "      <td>No</td>\n",
       "      <td>3</td>\n",
       "      <td>Gustafsson, Mr. Anders Vilhelm</td>\n",
       "      <td>male</td>\n",
       "      <td>37.0</td>\n",
       "      <td>2</td>\n",
       "      <td>0</td>\n",
       "      <td>3101276</td>\n",
       "      <td>7.9250</td>\n",
       "      <td>NaN</td>\n",
       "      <td>S</td>\n",
       "    </tr>\n",
       "    <tr>\n",
       "      <th>6</th>\n",
       "      <td>576</td>\n",
       "      <td>No</td>\n",
       "      <td>3</td>\n",
       "      <td>Patchett, Mr. George</td>\n",
       "      <td>male</td>\n",
       "      <td>19.0</td>\n",
       "      <td>0</td>\n",
       "      <td>0</td>\n",
       "      <td>358585</td>\n",
       "      <td>14.5000</td>\n",
       "      <td>NaN</td>\n",
       "      <td>S</td>\n",
       "    </tr>\n",
       "    <tr>\n",
       "      <th>7</th>\n",
       "      <td>382</td>\n",
       "      <td>Yes</td>\n",
       "      <td>3</td>\n",
       "      <td>Nakid, Miss. Maria (\"Mary\")</td>\n",
       "      <td>female</td>\n",
       "      <td>1.0</td>\n",
       "      <td>0</td>\n",
       "      <td>2</td>\n",
       "      <td>2653</td>\n",
       "      <td>15.7417</td>\n",
       "      <td>NaN</td>\n",
       "      <td>C</td>\n",
       "    </tr>\n",
       "    <tr>\n",
       "      <th>8</th>\n",
       "      <td>228</td>\n",
       "      <td>No</td>\n",
       "      <td>3</td>\n",
       "      <td>Lovell, Mr. John Hall (\"Henry\")</td>\n",
       "      <td>male</td>\n",
       "      <td>20.5</td>\n",
       "      <td>0</td>\n",
       "      <td>0</td>\n",
       "      <td>A/5 21173</td>\n",
       "      <td>7.2500</td>\n",
       "      <td>NaN</td>\n",
       "      <td>S</td>\n",
       "    </tr>\n",
       "    <tr>\n",
       "      <th>9</th>\n",
       "      <td>433</td>\n",
       "      <td>Yes</td>\n",
       "      <td>2</td>\n",
       "      <td>Louch, Mrs. Charles Alexander (Alice Adelaide ...</td>\n",
       "      <td>female</td>\n",
       "      <td>42.0</td>\n",
       "      <td>1</td>\n",
       "      <td>0</td>\n",
       "      <td>SC/AH 3085</td>\n",
       "      <td>26.0000</td>\n",
       "      <td>NaN</td>\n",
       "      <td>S</td>\n",
       "    </tr>\n",
       "  </tbody>\n",
       "</table>\n",
       "</div>"
      ],
      "text/plain": [
       "   PassengerId Survived  Pclass  \\\n",
       "0          343       No       2   \n",
       "1           76       No       3   \n",
       "2          641       No       3   \n",
       "3          568       No       3   \n",
       "4          672       No       1   \n",
       "5          105       No       3   \n",
       "6          576       No       3   \n",
       "7          382      Yes       3   \n",
       "8          228       No       3   \n",
       "9          433      Yes       2   \n",
       "\n",
       "                                                Name     Sex   Age  SibSp  \\\n",
       "0                         Collander, Mr. Erik Gustaf    male  28.0      0   \n",
       "1                            Moen, Mr. Sigurd Hansen    male  25.0      0   \n",
       "2                             Jensen, Mr. Hans Peder    male  20.0      0   \n",
       "3        Palsson, Mrs. Nils (Alma Cornelia Berglund)  female  29.0      0   \n",
       "4                             Davidson, Mr. Thornton    male  31.0      1   \n",
       "5                     Gustafsson, Mr. Anders Vilhelm    male  37.0      2   \n",
       "6                               Patchett, Mr. George    male  19.0      0   \n",
       "7                        Nakid, Miss. Maria (\"Mary\")  female   1.0      0   \n",
       "8                    Lovell, Mr. John Hall (\"Henry\")    male  20.5      0   \n",
       "9  Louch, Mrs. Charles Alexander (Alice Adelaide ...  female  42.0      1   \n",
       "\n",
       "   Parch      Ticket     Fare  Cabin Embarked  \n",
       "0      0      248740  13.0000    NaN        S  \n",
       "1      0      348123   7.6500  F G73        S  \n",
       "2      0      350050   7.8542    NaN        S  \n",
       "3      4      349909  21.0750    NaN        S  \n",
       "4      0  F.C. 12750  52.0000    B71        S  \n",
       "5      0     3101276   7.9250    NaN        S  \n",
       "6      0      358585  14.5000    NaN        S  \n",
       "7      2        2653  15.7417    NaN        C  \n",
       "8      0   A/5 21173   7.2500    NaN        S  \n",
       "9      0  SC/AH 3085  26.0000    NaN        S  "
      ]
     },
     "execution_count": 2,
     "metadata": {},
     "output_type": "execute_result"
    }
   ],
   "source": [
    "data = pd.read_csv('C:\\\\Users\\\\Pc\\\\Desktop\\\\GoMyCode\\\\titanic-passengers.csv', sep=';',encoding='unicode_escape')\n",
    "data.head(10)"
   ]
  },
  {
   "cell_type": "code",
   "execution_count": 3,
   "id": "d47b4a86",
   "metadata": {},
   "outputs": [
    {
     "data": {
      "text/html": [
       "<div>\n",
       "<style scoped>\n",
       "    .dataframe tbody tr th:only-of-type {\n",
       "        vertical-align: middle;\n",
       "    }\n",
       "\n",
       "    .dataframe tbody tr th {\n",
       "        vertical-align: top;\n",
       "    }\n",
       "\n",
       "    .dataframe thead th {\n",
       "        text-align: right;\n",
       "    }\n",
       "</style>\n",
       "<table border=\"1\" class=\"dataframe\">\n",
       "  <thead>\n",
       "    <tr style=\"text-align: right;\">\n",
       "      <th></th>\n",
       "      <th>PassengerId</th>\n",
       "      <th>Pclass</th>\n",
       "      <th>Age</th>\n",
       "      <th>SibSp</th>\n",
       "      <th>Parch</th>\n",
       "      <th>Fare</th>\n",
       "    </tr>\n",
       "  </thead>\n",
       "  <tbody>\n",
       "    <tr>\n",
       "      <th>count</th>\n",
       "      <td>891.000000</td>\n",
       "      <td>891.000000</td>\n",
       "      <td>714.000000</td>\n",
       "      <td>891.000000</td>\n",
       "      <td>891.000000</td>\n",
       "      <td>891.000000</td>\n",
       "    </tr>\n",
       "    <tr>\n",
       "      <th>mean</th>\n",
       "      <td>446.000000</td>\n",
       "      <td>2.308642</td>\n",
       "      <td>29.699118</td>\n",
       "      <td>0.523008</td>\n",
       "      <td>0.381594</td>\n",
       "      <td>32.204208</td>\n",
       "    </tr>\n",
       "    <tr>\n",
       "      <th>std</th>\n",
       "      <td>257.353842</td>\n",
       "      <td>0.836071</td>\n",
       "      <td>14.526497</td>\n",
       "      <td>1.102743</td>\n",
       "      <td>0.806057</td>\n",
       "      <td>49.693429</td>\n",
       "    </tr>\n",
       "    <tr>\n",
       "      <th>min</th>\n",
       "      <td>1.000000</td>\n",
       "      <td>1.000000</td>\n",
       "      <td>0.420000</td>\n",
       "      <td>0.000000</td>\n",
       "      <td>0.000000</td>\n",
       "      <td>0.000000</td>\n",
       "    </tr>\n",
       "    <tr>\n",
       "      <th>25%</th>\n",
       "      <td>223.500000</td>\n",
       "      <td>2.000000</td>\n",
       "      <td>20.125000</td>\n",
       "      <td>0.000000</td>\n",
       "      <td>0.000000</td>\n",
       "      <td>7.910400</td>\n",
       "    </tr>\n",
       "    <tr>\n",
       "      <th>50%</th>\n",
       "      <td>446.000000</td>\n",
       "      <td>3.000000</td>\n",
       "      <td>28.000000</td>\n",
       "      <td>0.000000</td>\n",
       "      <td>0.000000</td>\n",
       "      <td>14.454200</td>\n",
       "    </tr>\n",
       "    <tr>\n",
       "      <th>75%</th>\n",
       "      <td>668.500000</td>\n",
       "      <td>3.000000</td>\n",
       "      <td>38.000000</td>\n",
       "      <td>1.000000</td>\n",
       "      <td>0.000000</td>\n",
       "      <td>31.000000</td>\n",
       "    </tr>\n",
       "    <tr>\n",
       "      <th>max</th>\n",
       "      <td>891.000000</td>\n",
       "      <td>3.000000</td>\n",
       "      <td>80.000000</td>\n",
       "      <td>8.000000</td>\n",
       "      <td>6.000000</td>\n",
       "      <td>512.329200</td>\n",
       "    </tr>\n",
       "  </tbody>\n",
       "</table>\n",
       "</div>"
      ],
      "text/plain": [
       "       PassengerId      Pclass         Age       SibSp       Parch        Fare\n",
       "count   891.000000  891.000000  714.000000  891.000000  891.000000  891.000000\n",
       "mean    446.000000    2.308642   29.699118    0.523008    0.381594   32.204208\n",
       "std     257.353842    0.836071   14.526497    1.102743    0.806057   49.693429\n",
       "min       1.000000    1.000000    0.420000    0.000000    0.000000    0.000000\n",
       "25%     223.500000    2.000000   20.125000    0.000000    0.000000    7.910400\n",
       "50%     446.000000    3.000000   28.000000    0.000000    0.000000   14.454200\n",
       "75%     668.500000    3.000000   38.000000    1.000000    0.000000   31.000000\n",
       "max     891.000000    3.000000   80.000000    8.000000    6.000000  512.329200"
      ]
     },
     "execution_count": 3,
     "metadata": {},
     "output_type": "execute_result"
    }
   ],
   "source": [
    "#Description of the dataset\n",
    "data.describe()"
   ]
  },
  {
   "cell_type": "code",
   "execution_count": 4,
   "id": "d302774e",
   "metadata": {},
   "outputs": [
    {
     "data": {
      "text/plain": [
       "0"
      ]
     },
     "execution_count": 4,
     "metadata": {},
     "output_type": "execute_result"
    }
   ],
   "source": [
    "data['Age']=data['Age'].replace(np.NaN, data['Age'].mean())\n",
    "data['Age'].isnull().sum()"
   ]
  },
  {
   "cell_type": "code",
   "execution_count": 5,
   "id": "73523271",
   "metadata": {},
   "outputs": [
    {
     "data": {
      "text/plain": [
       "0      B96 B98\n",
       "1        F G73\n",
       "2      B96 B98\n",
       "3      B96 B98\n",
       "4          B71\n",
       "        ...   \n",
       "886    B96 B98\n",
       "887    B96 B98\n",
       "888    B96 B98\n",
       "889    B96 B98\n",
       "890    B96 B98\n",
       "Name: Cabin, Length: 891, dtype: object"
      ]
     },
     "execution_count": 5,
     "metadata": {},
     "output_type": "execute_result"
    }
   ],
   "source": [
    "data['Cabin']=data['Cabin'].replace(np.NaN, data['Cabin'].mode()[0])\n",
    "data['Cabin']\n"
   ]
  },
  {
   "cell_type": "code",
   "execution_count": 6,
   "id": "8c5c0d48",
   "metadata": {},
   "outputs": [
    {
     "data": {
      "text/plain": [
       "0"
      ]
     },
     "execution_count": 6,
     "metadata": {},
     "output_type": "execute_result"
    }
   ],
   "source": [
    "data['Embarked']=data['Embarked'].dropna\n",
    "data['Embarked'].isnull().sum()"
   ]
  },
  {
   "cell_type": "code",
   "execution_count": 7,
   "id": "e94a7a8f",
   "metadata": {},
   "outputs": [
    {
     "data": {
      "text/html": [
       "<div>\n",
       "<style scoped>\n",
       "    .dataframe tbody tr th:only-of-type {\n",
       "        vertical-align: middle;\n",
       "    }\n",
       "\n",
       "    .dataframe tbody tr th {\n",
       "        vertical-align: top;\n",
       "    }\n",
       "\n",
       "    .dataframe thead th {\n",
       "        text-align: right;\n",
       "    }\n",
       "</style>\n",
       "<table border=\"1\" class=\"dataframe\">\n",
       "  <thead>\n",
       "    <tr style=\"text-align: right;\">\n",
       "      <th></th>\n",
       "      <th>PassengerId</th>\n",
       "      <th>Pclass</th>\n",
       "      <th>Age</th>\n",
       "      <th>SibSp</th>\n",
       "      <th>Parch</th>\n",
       "      <th>Fare</th>\n",
       "    </tr>\n",
       "  </thead>\n",
       "  <tbody>\n",
       "    <tr>\n",
       "      <th>PassengerId</th>\n",
       "      <td>1.000000</td>\n",
       "      <td>-0.035144</td>\n",
       "      <td>0.033207</td>\n",
       "      <td>-0.057527</td>\n",
       "      <td>-0.001652</td>\n",
       "      <td>0.012658</td>\n",
       "    </tr>\n",
       "    <tr>\n",
       "      <th>Pclass</th>\n",
       "      <td>-0.035144</td>\n",
       "      <td>1.000000</td>\n",
       "      <td>-0.331339</td>\n",
       "      <td>0.083081</td>\n",
       "      <td>0.018443</td>\n",
       "      <td>-0.549500</td>\n",
       "    </tr>\n",
       "    <tr>\n",
       "      <th>Age</th>\n",
       "      <td>0.033207</td>\n",
       "      <td>-0.331339</td>\n",
       "      <td>1.000000</td>\n",
       "      <td>-0.232625</td>\n",
       "      <td>-0.179191</td>\n",
       "      <td>0.091566</td>\n",
       "    </tr>\n",
       "    <tr>\n",
       "      <th>SibSp</th>\n",
       "      <td>-0.057527</td>\n",
       "      <td>0.083081</td>\n",
       "      <td>-0.232625</td>\n",
       "      <td>1.000000</td>\n",
       "      <td>0.414838</td>\n",
       "      <td>0.159651</td>\n",
       "    </tr>\n",
       "    <tr>\n",
       "      <th>Parch</th>\n",
       "      <td>-0.001652</td>\n",
       "      <td>0.018443</td>\n",
       "      <td>-0.179191</td>\n",
       "      <td>0.414838</td>\n",
       "      <td>1.000000</td>\n",
       "      <td>0.216225</td>\n",
       "    </tr>\n",
       "    <tr>\n",
       "      <th>Fare</th>\n",
       "      <td>0.012658</td>\n",
       "      <td>-0.549500</td>\n",
       "      <td>0.091566</td>\n",
       "      <td>0.159651</td>\n",
       "      <td>0.216225</td>\n",
       "      <td>1.000000</td>\n",
       "    </tr>\n",
       "  </tbody>\n",
       "</table>\n",
       "</div>"
      ],
      "text/plain": [
       "             PassengerId    Pclass       Age     SibSp     Parch      Fare\n",
       "PassengerId     1.000000 -0.035144  0.033207 -0.057527 -0.001652  0.012658\n",
       "Pclass         -0.035144  1.000000 -0.331339  0.083081  0.018443 -0.549500\n",
       "Age             0.033207 -0.331339  1.000000 -0.232625 -0.179191  0.091566\n",
       "SibSp          -0.057527  0.083081 -0.232625  1.000000  0.414838  0.159651\n",
       "Parch          -0.001652  0.018443 -0.179191  0.414838  1.000000  0.216225\n",
       "Fare            0.012658 -0.549500  0.091566  0.159651  0.216225  1.000000"
      ]
     },
     "execution_count": 7,
     "metadata": {},
     "output_type": "execute_result"
    }
   ],
   "source": [
    "cor=data.corr()\n",
    "cor"
   ]
  },
  {
   "cell_type": "code",
   "execution_count": 8,
   "id": "004af951",
   "metadata": {},
   "outputs": [
    {
     "data": {
      "text/html": [
       "<div>\n",
       "<style scoped>\n",
       "    .dataframe tbody tr th:only-of-type {\n",
       "        vertical-align: middle;\n",
       "    }\n",
       "\n",
       "    .dataframe tbody tr th {\n",
       "        vertical-align: top;\n",
       "    }\n",
       "\n",
       "    .dataframe thead th {\n",
       "        text-align: right;\n",
       "    }\n",
       "</style>\n",
       "<table border=\"1\" class=\"dataframe\">\n",
       "  <thead>\n",
       "    <tr style=\"text-align: right;\">\n",
       "      <th></th>\n",
       "      <th>PassengerId</th>\n",
       "      <th>Pclass</th>\n",
       "      <th>Age</th>\n",
       "      <th>SibSp</th>\n",
       "      <th>Parch</th>\n",
       "      <th>Fare</th>\n",
       "    </tr>\n",
       "    <tr>\n",
       "      <th>Survived</th>\n",
       "      <th></th>\n",
       "      <th></th>\n",
       "      <th></th>\n",
       "      <th></th>\n",
       "      <th></th>\n",
       "      <th></th>\n",
       "    </tr>\n",
       "  </thead>\n",
       "  <tbody>\n",
       "    <tr>\n",
       "      <th>No</th>\n",
       "      <td>447.016393</td>\n",
       "      <td>2.531876</td>\n",
       "      <td>30.415100</td>\n",
       "      <td>0.553734</td>\n",
       "      <td>0.329690</td>\n",
       "      <td>22.117887</td>\n",
       "    </tr>\n",
       "    <tr>\n",
       "      <th>Yes</th>\n",
       "      <td>444.368421</td>\n",
       "      <td>1.950292</td>\n",
       "      <td>28.549778</td>\n",
       "      <td>0.473684</td>\n",
       "      <td>0.464912</td>\n",
       "      <td>48.395408</td>\n",
       "    </tr>\n",
       "  </tbody>\n",
       "</table>\n",
       "</div>"
      ],
      "text/plain": [
       "          PassengerId    Pclass        Age     SibSp     Parch       Fare\n",
       "Survived                                                                 \n",
       "No         447.016393  2.531876  30.415100  0.553734  0.329690  22.117887\n",
       "Yes        444.368421  1.950292  28.549778  0.473684  0.464912  48.395408"
      ]
     },
     "execution_count": 8,
     "metadata": {},
     "output_type": "execute_result"
    }
   ],
   "source": [
    "data.groupby('Survived').mean()"
   ]
  },
  {
   "cell_type": "markdown",
   "id": "b53c9162",
   "metadata": {},
   "source": [
    "***Building our decision tree model for survival prediction***"
   ]
  },
  {
   "cell_type": "markdown",
   "id": "9adf45ef",
   "metadata": {},
   "source": [
    "1. Dealing with missing values and converting categorical data to numerical data\n"
   ]
  },
  {
   "cell_type": "code",
   "execution_count": 9,
   "id": "706cdfe6",
   "metadata": {},
   "outputs": [],
   "source": [
    "#Preprocessing our data\n",
    "def preprocess_data(new_data):\n",
    "    new_data['Age'].fillna(new_data['Age'].mean(),inplace=True)\n",
    "    new_data.replace({'Sex':{'male': 1,'female':0}},inplace=True)\n",
    "    new_data['Cabin']=new_data.Cabin.fillna('G6')\n",
    "    new_data.replace({'Survived':{'Yes': 1,'No':0}},inplace=True)\n",
    "    return new_data\n",
    "data=preprocess_data(data)\n"
   ]
  },
  {
   "cell_type": "markdown",
   "id": "dad10e63",
   "metadata": {},
   "source": [
    "2. Fitting the Model, Evaluating Result, and Visualizing Trees"
   ]
  },
  {
   "cell_type": "code",
   "execution_count": 10,
   "id": "a5346b7c",
   "metadata": {},
   "outputs": [],
   "source": [
    "#features extraction\n",
    "x=data.drop([\"Survived\", \"Name\", \"Cabin\", \"Ticket\", \"Embarked\"], axis=1)\n",
    "y= data[\"Survived\"]"
   ]
  },
  {
   "cell_type": "code",
   "execution_count": 11,
   "id": "5ba3132b",
   "metadata": {},
   "outputs": [
    {
     "data": {
      "text/plain": [
       "<AxesSubplot:>"
      ]
     },
     "execution_count": 11,
     "metadata": {},
     "output_type": "execute_result"
    },
    {
     "data": {
      "image/png": "[encoded data removed]",
      "text/plain": [
       "<Figure size 864x864 with 2 Axes>"
      ]
     },
     "metadata": {
      "needs_background": "light"
     },
     "output_type": "display_data"
    }
   ],
   "source": [
    "plt.figure(figsize=(12,12))\n",
    "#plt.title('Pearson Correlation of Features', y=1.05, size=15)\n",
    "sns.heatmap(x.astype(float).corr(), linecolor='white', annot=True)"
   ]
  },
  {
   "cell_type": "code",
   "execution_count": 12,
   "id": "2f90a549",
   "metadata": {},
   "outputs": [],
   "source": [
    "#splitting data: we will use 80% of data for training and 20% for testing\n",
    "x_train, x_test, y_train, y_test = train_test_split(x,y, test_size=0.20,random_state=10)"
   ]
  },
  {
   "cell_type": "markdown",
   "id": "a6cee28a",
   "metadata": {},
   "source": [
    "1. Entropy method"
   ]
  },
  {
   "cell_type": "code",
   "execution_count": 13,
   "id": "da069951",
   "metadata": {},
   "outputs": [
    {
     "data": {
      "text/plain": [
       "[Text(334.8, 380.52, 'X[2] <= 0.581\\nentropy = 0.955\\nsamples = 712\\nvalue = [444, 268]'),\n",
       " Text(167.4, 271.8, 'X[1] <= 2.438\\nentropy = 0.835\\nsamples = 252\\nvalue = [67, 185]'),\n",
       " Text(83.7, 163.07999999999998, 'X[1] <= 1.644\\nentropy = 0.297\\nsamples = 133\\nvalue = [7, 126]'),\n",
       " Text(41.85, 54.360000000000014, 'entropy = 0.176\\nsamples = 76\\nvalue = [2, 74]'),\n",
       " Text(125.55000000000001, 54.360000000000014, 'entropy = 0.429\\nsamples = 57\\nvalue = [5, 52]'),\n",
       " Text(251.10000000000002, 163.07999999999998, 'X[0] <= 735.742\\nentropy = 1.0\\nsamples = 119\\nvalue = [60, 59]'),\n",
       " Text(209.25, 54.360000000000014, 'entropy = 0.999\\nsamples = 101\\nvalue = [49, 52]'),\n",
       " Text(292.95, 54.360000000000014, 'entropy = 0.964\\nsamples = 18\\nvalue = [11, 7]'),\n",
       " Text(502.20000000000005, 271.8, 'X[1] <= 2.877\\nentropy = 0.681\\nsamples = 460\\nvalue = [377, 83]'),\n",
       " Text(418.5, 163.07999999999998, 'X[1] <= 1.937\\nentropy = 0.803\\nsamples = 184\\nvalue = [139, 45]'),\n",
       " Text(376.65000000000003, 54.360000000000014, 'entropy = 0.943\\nsamples = 100\\nvalue = [64, 36]'),\n",
       " Text(460.35, 54.360000000000014, 'entropy = 0.491\\nsamples = 84\\nvalue = [75, 9]'),\n",
       " Text(585.9, 163.07999999999998, 'X[3] <= 14.82\\nentropy = 0.578\\nsamples = 276\\nvalue = [238, 38]'),\n",
       " Text(544.0500000000001, 54.360000000000014, 'entropy = 0.918\\nsamples = 24\\nvalue = [16, 8]'),\n",
       " Text(627.75, 54.360000000000014, 'entropy = 0.527\\nsamples = 252\\nvalue = [222, 30]')]"
      ]
     },
     "execution_count": 13,
     "metadata": {},
     "output_type": "execute_result"
    },
    {
     "data": {
      "image/png": "[encoded data removed]",
      "text/plain": [
       "<Figure size 864x576 with 1 Axes>"
      ]
     },
     "metadata": {
      "needs_background": "light"
     },
     "output_type": "display_data"
    }
   ],
   "source": [
    "#applying Decision tree algorithm\n",
    "model = tree.DecisionTreeClassifier(criterion='entropy', splitter='random',max_leaf_nodes=10, min_samples_leaf=5, max_depth=3, random_state=0)  \n",
    "\n",
    "#fitting our model\n",
    "model.fit(x_train, y_train)   \n",
    "y_pred=model.predict(x_test)   \n",
    "import matplotlib.pyplot as plt\n",
    "from sklearn import tree\n",
    "#Plotting our trees\n",
    "plt.figure(figsize=(12,8))\n",
    "\n",
    "tree.plot_tree(model.fit(x_train, y_train))"
   ]
  },
  {
   "cell_type": "code",
   "execution_count": 14,
   "id": "3f9f6500",
   "metadata": {},
   "outputs": [
    {
     "name": "stdout",
     "output_type": "stream",
     "text": [
      "score:0.770949720670391\n"
     ]
    }
   ],
   "source": [
    "#evaluating our algorithm\n",
    "print(\"score:{}\".format(accuracy_score(y_test, y_pred)))"
   ]
  },
  {
   "cell_type": "markdown",
   "id": "d0d8fd28",
   "metadata": {},
   "source": [
    "In this case we use the entropy wich uses a logarithmic algorithm method and max_depth=5 wich is When left at default (None), nodes will be expanded until all leaves are pure or they contain samples less than the amount of min_samles_split.\n",
    "So we obtained an accuracy=0.77.\n",
    "In the next step w're going to change the method and the max_depth to see their impact on accuracy and the number of trees."
   ]
  },
  {
   "cell_type": "markdown",
   "id": "b0d81e78",
   "metadata": {},
   "source": [
    "2. Gini method"
   ]
  },
  {
   "cell_type": "code",
   "execution_count": 16,
   "id": "04190b12",
   "metadata": {},
   "outputs": [
    {
     "data": {
      "text/plain": [
       "[Text(273.92727272727274, 403.81714285714287, 'X[2] <= 0.581\\ngini = 0.469\\nsamples = 712\\nvalue = [444, 268]'),\n",
       " Text(121.74545454545455, 341.69142857142856, 'X[1] <= 2.438\\ngini = 0.39\\nsamples = 252\\nvalue = [67, 185]'),\n",
       " Text(60.872727272727275, 279.5657142857143, 'gini = 0.1\\nsamples = 133\\nvalue = [7, 126]'),\n",
       " Text(182.61818181818182, 279.5657142857143, 'gini = 0.5\\nsamples = 119\\nvalue = [60, 59]'),\n",
       " Text(426.1090909090909, 341.69142857142856, 'X[1] <= 2.877\\ngini = 0.296\\nsamples = 460\\nvalue = [377, 83]'),\n",
       " Text(304.3636363636364, 279.5657142857143, 'X[1] <= 1.937\\ngini = 0.37\\nsamples = 184\\nvalue = [139, 45]'),\n",
       " Text(243.4909090909091, 217.44, 'X[0] <= 213.695\\ngini = 0.461\\nsamples = 100\\nvalue = [64, 36]'),\n",
       " Text(182.61818181818182, 155.3142857142857, 'gini = 0.33\\nsamples = 24\\nvalue = [19, 5]'),\n",
       " Text(304.3636363636364, 155.3142857142857, 'X[3] <= 37.607\\ngini = 0.483\\nsamples = 76\\nvalue = [45, 31]'),\n",
       " Text(243.4909090909091, 93.18857142857144, 'X[5] <= 0.164\\ngini = 0.5\\nsamples = 43\\nvalue = [22, 21]'),\n",
       " Text(182.61818181818182, 31.062857142857126, 'gini = 0.491\\nsamples = 37\\nvalue = [21, 16]'),\n",
       " Text(304.3636363636364, 31.062857142857126, 'gini = 0.278\\nsamples = 6\\nvalue = [1, 5]'),\n",
       " Text(365.23636363636365, 93.18857142857144, 'gini = 0.422\\nsamples = 33\\nvalue = [23, 10]'),\n",
       " Text(365.23636363636365, 217.44, 'gini = 0.191\\nsamples = 84\\nvalue = [75, 9]'),\n",
       " Text(547.8545454545455, 279.5657142857143, 'X[3] <= 14.82\\ngini = 0.237\\nsamples = 276\\nvalue = [238, 38]'),\n",
       " Text(486.9818181818182, 217.44, 'X[6] <= 37.793\\ngini = 0.444\\nsamples = 24\\nvalue = [16, 8]'),\n",
       " Text(426.1090909090909, 155.3142857142857, 'gini = 0.498\\nsamples = 17\\nvalue = [9, 8]'),\n",
       " Text(547.8545454545455, 155.3142857142857, 'gini = 0.0\\nsamples = 7\\nvalue = [7, 0]'),\n",
       " Text(608.7272727272727, 217.44, 'gini = 0.21\\nsamples = 252\\nvalue = [222, 30]')]"
      ]
     },
     "execution_count": 16,
     "metadata": {},
     "output_type": "execute_result"
    },
    {
     "data": {
      "image/png": "[encoded data removed]",
      "text/plain": [
       "<Figure size 864x576 with 1 Axes>"
      ]
     },
     "metadata": {
      "needs_background": "light"
     },
     "output_type": "display_data"
    }
   ],
   "source": [
    "model = tree.DecisionTreeClassifier(criterion='gini', splitter='random',max_leaf_nodes=10, min_samples_leaf=5, max_depth=9, random_state=0)  \n",
    "#fitting our model\n",
    "model.fit(x_train, y_train)   \n",
    "y_pred=model.predict(x_test)   \n",
    "#plotting our model\n",
    "plt.figure(figsize=(12,8))\n",
    "tree.plot_tree(model.fit(x_train, y_train))"
   ]
  },
  {
   "cell_type": "markdown",
   "id": "e23b028e",
   "metadata": {},
   "source": [
    "Let's try some other numbers of max_depth"
   ]
  },
  {
   "cell_type": "code",
   "execution_count": 15,
   "id": "3dbd83fd",
   "metadata": {},
   "outputs": [
    {
     "name": "stdout",
     "output_type": "stream",
     "text": [
      " Max Depth                Accuracy\n",
      "         1 score:0.776536312849162\n",
      "         2 score:0.776536312849162\n",
      "         3 score:0.776536312849162\n",
      "         4 score:0.776536312849162\n",
      "         5 score:0.776536312849162\n",
      "         6 score:0.776536312849162\n",
      "         7 score:0.776536312849162\n",
      "         8 score:0.776536312849162\n",
      "         9 score:0.776536312849162\n",
      "        10 score:0.776536312849162\n",
      "        11 score:0.776536312849162\n",
      "        12 score:0.776536312849162\n",
      "        13 score:0.776536312849162\n",
      "        14 score:0.776536312849162\n",
      "        15 score:0.776536312849162\n",
      "        16 score:0.776536312849162\n",
      "        17 score:0.776536312849162\n",
      "        18 score:0.776536312849162\n",
      "        19 score:0.776536312849162\n",
      "        20 score:0.776536312849162\n"
     ]
    }
   ],
   "source": [
    "from sklearn.preprocessing import OneHotEncoder\n",
    "\n",
    "cv = KFold(n_splits=10)            # Desired number of Cross Validation folds\n",
    "accuracies = list()\n",
    "max_attributes = 20\n",
    "depth_range = range(1, max_attributes + 1)\n",
    "# Testing max_depths from 1 to max attributes\n",
    "\n",
    "for depth in depth_range:\n",
    "    fold_accuracy = []\n",
    "    model = tree.DecisionTreeClassifier(criterion='gini', splitter='random',max_leaf_nodes=10, min_samples_leaf=5, max_depth=depth, random_state=0)  \n",
    "    #fitting our model\n",
    "    model.fit(x_train, y_train)   \n",
    "    y_pred=model.predict(x_test)  \n",
    "df = pd.DataFrame({\"Max Depth\": depth_range, \"Accuracy\": \"score:{}\".format(accuracy_score(y_test, y_pred))})\n",
    "df = df[[\"Max Depth\", \"Accuracy\"]]\n",
    "print(df.to_string(index=False))"
   ]
  },
  {
   "cell_type": "markdown",
   "id": "f12ea94d",
   "metadata": {},
   "source": [
    "**entropy Vs Gini**\n",
    "\n",
    "While entropy might have the upper hand in exploratory analysis, Gini can be advantageous for reduced false-classifications.\n",
    "If we set max_depth too high, then the decision tree might simply overfit the training data without capturing useful patterns as we would like."
   ]
  },
  {
   "cell_type": "markdown",
   "id": "4597e660",
   "metadata": {},
   "source": [
    "**Building our random forest model**"
   ]
  },
  {
   "cell_type": "code",
   "execution_count": 17,
   "id": "87039fa4",
   "metadata": {},
   "outputs": [],
   "source": [
    "#applying random forest algorithm\n",
    "RF = RandomForestClassifier(criterion='gini', n_estimators = 500, random_state = 42)\n",
    "#fitting the model\n",
    "RF.fit(x_train, y_train)\n",
    "y_pred= RF.predict(x_test)      \n",
    "#in this code I put a number of n_estimators =500"
   ]
  },
  {
   "cell_type": "markdown",
   "id": "e8e2a87f",
   "metadata": {},
   "source": [
    "Here I will try a range of n_estimators to show their impact on accuracy"
   ]
  },
  {
   "cell_type": "code",
   "execution_count": null,
   "id": "1798c0d4",
   "metadata": {},
   "outputs": [],
   "source": [
    "from sklearn.model_selection import GridSearchCV\n",
    "from sklearn.model_selection import StratifiedKFold\n",
    "from sklearn.preprocessing import LabelEncoder\n",
    "import matplotlib\n",
    "matplotlib.use('Agg')\n",
    "from matplotlib import pyplot\n",
    "label_encoded_y = LabelEncoder().fit_transform(y)\n",
    "n_estimators = range(10, 200, 10)\n",
    "RF = RandomForestClassifier(criterion='gini', n_estimators = n_estimators, random_state = 42)\n",
    "\n",
    "param_grid = dict(n_estimators=n_estimators)\n",
    "kfold = StratifiedKFold(n_splits=10, shuffle=True, random_state=7)\n",
    "grid_search = GridSearchCV(RF, param_grid, scoring=\"accuracy\", n_jobs=-1, cv=kfold)\n",
    "grid_result = grid_search.fit(x, label_encoded_y)\n",
    "# summarize results\n",
    "print(\"score:{}\".format(accuracy_score(y_test, y_pred),grid_result.best_score_, grid_result.best_params_))\n",
    "means = grid_result.cv_results_['mean_test_score']\n",
    "stds = grid_result.cv_results_['std_test_score']\n",
    "params = grid_result.cv_results_['params']\n",
    "for mean, stdev, param in zip(means, stds, params):\n",
    "    print(\"score:{}\".format(accuracy_score(y_test, y_pred)), param)"
   ]
  },
  {
   "cell_type": "markdown",
   "id": "384cabf4",
   "metadata": {},
   "source": [
    "We can see predict that the number of estimators can affect the accuracy of our model If we want to increase the accuracy of our model we might increase the number of trees.\n",
    "I tried \n",
    "with n_estimators = 500 accuracy = 0.84\n",
    "with n_estimators = 10000 accuracy = 0.86\n",
    "But here because the n_estimators = 10000 took much time for execution I tried just wuth range of 200\n",
    "\n"
   ]
  },
  {
   "cell_type": "markdown",
   "id": "3bf7a491",
   "metadata": {},
   "source": [
    "**Confusion matrix**"
   ]
  },
  {
   "cell_type": "code",
   "execution_count": 59,
   "id": "09c143dc",
   "metadata": {},
   "outputs": [
    {
     "data": {
      "text/html": [
       "<div>\n",
       "<style scoped>\n",
       "    .dataframe tbody tr th:only-of-type {\n",
       "        vertical-align: middle;\n",
       "    }\n",
       "\n",
       "    .dataframe tbody tr th {\n",
       "        vertical-align: top;\n",
       "    }\n",
       "\n",
       "    .dataframe thead th {\n",
       "        text-align: right;\n",
       "    }\n",
       "</style>\n",
       "<table border=\"1\" class=\"dataframe\">\n",
       "  <thead>\n",
       "    <tr style=\"text-align: right;\">\n",
       "      <th></th>\n",
       "      <th>Predicted Not Survived</th>\n",
       "      <th>Predicted Survived</th>\n",
       "    </tr>\n",
       "  </thead>\n",
       "  <tbody>\n",
       "    <tr>\n",
       "      <th>Not-Survived</th>\n",
       "      <td>58</td>\n",
       "      <td>16</td>\n",
       "    </tr>\n",
       "    <tr>\n",
       "      <th>Survived</th>\n",
       "      <td>9</td>\n",
       "      <td>96</td>\n",
       "    </tr>\n",
       "  </tbody>\n",
       "</table>\n",
       "</div>"
      ],
      "text/plain": [
       "              Predicted Not Survived  Predicted Survived\n",
       "Not-Survived                      58                  16\n",
       "Survived                           9                  96"
      ]
     },
     "execution_count": 59,
     "metadata": {},
     "output_type": "execute_result"
    }
   ],
   "source": [
    "from sklearn.metrics import confusion_matrix\n",
    "from sklearn.metrics import roc_curve,auc\n",
    "from sklearn.metrics import accuracy_score\n",
    "from sklearn.metrics import precision_score\n",
    "from sklearn.metrics import classification_report, balanced_accuracy_score\n",
    "cm = np.array(confusion_matrix(y_test, y_pred, labels=[1,0]))\n",
    "\n",
    "confusion_mat= pd.DataFrame(cm, index = [\"Not-Survived\", \"Survived\"],\n",
    "                           columns =[\"Predicted Not Survived\", \"Predicted Survived\"])\n",
    "\n",
    "confusion_mat"
   ]
  },
  {
   "cell_type": "markdown",
   "id": "2a393511",
   "metadata": {},
   "source": [
    "**Classification report**"
   ]
  },
  {
   "cell_type": "code",
   "execution_count": 60,
   "id": "3c6a0c84",
   "metadata": {},
   "outputs": [
    {
     "name": "stdout",
     "output_type": "stream",
     "text": [
      "              precision    recall  f1-score   support\n",
      "\n",
      "           0       0.86      0.91      0.88       105\n",
      "           1       0.87      0.78      0.82        74\n",
      "\n",
      "    accuracy                           0.86       179\n",
      "   macro avg       0.86      0.85      0.85       179\n",
      "weighted avg       0.86      0.86      0.86       179\n",
      "\n"
     ]
    }
   ],
   "source": [
    "print(classification_report(y_test, y_pred))"
   ]
  },
  {
   "cell_type": "markdown",
   "id": "545f7627",
   "metadata": {},
   "source": [
    "**ROC evaluation**"
   ]
  },
  {
   "cell_type": "markdown",
   "id": "b9c0a16f",
   "metadata": {},
   "source": [
    "I will use the ROC evaluation as another evaluation method"
   ]
  },
  {
   "cell_type": "code",
   "execution_count": 49,
   "id": "a75eef87",
   "metadata": {},
   "outputs": [
    {
     "name": "stdout",
     "output_type": "stream",
     "text": [
      "\n",
      "ROC AUC on evaluation set 0.8395109395109395\n"
     ]
    }
   ],
   "source": [
    "from sklearn.metrics import roc_curve,auc\n",
    "\n",
    "fpr, tpr, _ = roc_curve(y_test, y_pred)\n",
    "roc_auc = auc(fpr, tpr)\n",
    "print(\"\\nROC AUC on evaluation set\",roc_auc )"
   ]
  },
  {
   "cell_type": "code",
   "execution_count": 50,
   "id": "dd1951a3",
   "metadata": {},
   "outputs": [
    {
     "name": "stderr",
     "output_type": "stream",
     "text": [
      "C:\\Users\\Pc\\AppData\\Local\\Temp/ipykernel_27788/404462583.py:10: UserWarning: Matplotlib is currently using agg, which is a non-GUI backend, so cannot show the figure.\n",
      "  plt.show()\n"
     ]
    },
    {
     "data": {
      "image/png": "[encoded data removed]",
      "text/plain": [
       "<Figure size 432x288 with 1 Axes>"
      ]
     },
     "metadata": {
      "needs_background": "light"
     },
     "output_type": "display_data"
    }
   ],
   "source": [
    "plt.figure()\n",
    "plt.plot(fpr, tpr, label='ROC curve (area = %0.2f)' % roc_auc)\n",
    "plt.plot([0, 1], [0, 1], 'k--')\n",
    "plt.xlim([0.0, 1.0])\n",
    "plt.ylim([0.0, 1.05])\n",
    "plt.xlabel('False Positive Rate')\n",
    "plt.ylabel('True Positive Rate')\n",
    "plt.title('Receiver Operating Characteristic (ROC) Curve')\n",
    "plt.legend(loc=\"lower right\")\n",
    "plt.show()"
   ]
  },
  {
   "cell_type": "markdown",
   "id": "fdbfe722",
   "metadata": {},
   "source": [
    "**Conclusion**"
   ]
  },
  {
   "cell_type": "markdown",
   "id": "f43c2832",
   "metadata": {},
   "source": [
    "In this chack point we applied both decision tree algorithm and random forest algorithm to classify if a passenger on the Titanic is going to survive. \n",
    "\n",
    "From the accuracy of our models we can conclude that **random forest classifier** is the best choice for our case."
   ]
  },
  {
   "cell_type": "code",
   "execution_count": null,
   "id": "dca87edd",
   "metadata": {},
   "outputs": [],
   "source": []
  }
 ],
 "metadata": {
  "kernelspec": {
   "display_name": "Python 3 (ipykernel)",
   "language": "python",
   "name": "python3"
  },
  "language_info": {
   "codemirror_mode": {
    "name": "ipython",
    "version": 3
   },
   "file_extension": ".py",
   "mimetype": "text/x-python",
   "name": "python",
   "nbconvert_exporter": "python",
   "pygments_lexer": "ipython3",
   "version": "3.9.7"
  }
 },
 "nbformat": 4,
 "nbformat_minor": 5
}
